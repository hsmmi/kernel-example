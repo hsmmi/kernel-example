{
 "cells": [
  {
   "cell_type": "code",
   "execution_count": 1,
   "metadata": {},
   "outputs": [
    {
     "name": "stdout",
     "output_type": "stream",
     "text": [
      "[0, 0, 0, 0, 1, 0, 1, 0, 1, 1, 0, 1, 1, 1, 0, 0, 0, 0, 1, 0, 0, 0, 1, 0, 0, 0, 1, 0, 0, 0]\n"
     ]
    },
    {
     "data": {
      "image/png": "[encoded data removed]",
      "text/plain": [
       "<Figure size 640x480 with 1 Axes>"
      ]
     },
     "metadata": {},
     "output_type": "display_data"
    }
   ],
   "source": [
    "import numpy as np\n",
    "from sklearn.model_selection import train_test_split\n",
    "from sklearn.metrics import accuracy_score, f1_score\n",
    "from sklearn.preprocessing import MinMaxScaler\n",
    "from sklearn.model_selection import KFold\n",
    "from knn import knn\n",
    "from time import time"
   ]
  },
  {
   "cell_type": "code",
   "execution_count": 2,
   "metadata": {},
   "outputs": [],
   "source": [
    "def part1(path:str, type:str):\n",
    "    ds = np.loadtxt(path, delimiter=',', dtype=np.float64)\n",
    "\n",
    "    data_train, data_test, label_train, label_test = train_test_split(ds[:, :-1], ds[:, -1], test_size=0.3,\n",
    "                                                                        random_state=42)\n",
    "    \n",
    "    # Normalization\n",
    "    scaler = MinMaxScaler()\n",
    "    scaler.fit_transform(data_train)\n",
    "    scaler.fit_transform(data_test)\n",
    "\n",
    "    # Start time\n",
    "    start = time()\n",
    "\n",
    "    # KNN\n",
    "    model = knn(1, type)\n",
    "    model.fit(data_train, label_train)\n",
    "    label_pred = model.predict(data_test)\n",
    "    \n",
    "    # Return accuracy and time and f1 score\n",
    "    return accuracy_score(label_test, label_pred), f1_score(label_test, label_pred, average='macro'), (time() - start)\n"
   ]
  },
  {
   "cell_type": "code",
   "execution_count": 54,
   "metadata": {},
   "outputs": [
    {
     "name": "stdout",
     "output_type": "stream",
     "text": [
      "Dataset:  Wine.txt\n",
      "Accuracy:  0.6851851851851852\n",
      "F1 score:  0.6793783466109442\n",
      "runtime:  0.015300512313842773\n",
      "Dataset:  Glass.txt\n"
     ]
    },
    {
     "ename": "ValueError",
     "evalue": "could not convert string '' to float64 at row 0, column 11.",
     "output_type": "error",
     "traceback": [
      "\u001b[0;31m---------------------------------------------------------------------------\u001b[0m",
      "\u001b[0;31mValueError\u001b[0m                                Traceback (most recent call last)",
      "Cell \u001b[0;32mIn[54], line 10\u001b[0m\n\u001b[1;32m      8\u001b[0m acc_avg, f1_avg, runtime_avg \u001b[39m=\u001b[39m \u001b[39m0\u001b[39m, \u001b[39m0\u001b[39m, \u001b[39m0\u001b[39m\n\u001b[1;32m      9\u001b[0m \u001b[39mfor\u001b[39;00m i \u001b[39min\u001b[39;00m \u001b[39mrange\u001b[39m(\u001b[39m10\u001b[39m):\n\u001b[0;32m---> 10\u001b[0m     acc, f1, runtime \u001b[39m=\u001b[39m part1(path, \u001b[39mNone\u001b[39;49;00m)\n\u001b[1;32m     11\u001b[0m     acc_avg \u001b[39m+\u001b[39m\u001b[39m=\u001b[39m acc\n\u001b[1;32m     12\u001b[0m     f1_avg \u001b[39m+\u001b[39m\u001b[39m=\u001b[39m f1\n",
      "Cell \u001b[0;32mIn[2], line 2\u001b[0m, in \u001b[0;36mpart1\u001b[0;34m(path, type)\u001b[0m\n\u001b[1;32m      1\u001b[0m \u001b[39mdef\u001b[39;00m \u001b[39mpart1\u001b[39m(path:\u001b[39mstr\u001b[39m, \u001b[39mtype\u001b[39m:\u001b[39mstr\u001b[39m):\n\u001b[0;32m----> 2\u001b[0m     ds \u001b[39m=\u001b[39m np\u001b[39m.\u001b[39;49mloadtxt(path, delimiter\u001b[39m=\u001b[39;49m\u001b[39m'\u001b[39;49m\u001b[39m,\u001b[39;49m\u001b[39m'\u001b[39;49m, dtype\u001b[39m=\u001b[39;49mnp\u001b[39m.\u001b[39;49mfloat64)\n\u001b[1;32m      4\u001b[0m     data_train, data_test, label_train, label_test \u001b[39m=\u001b[39m train_test_split(ds[:, :\u001b[39m-\u001b[39m\u001b[39m1\u001b[39m], ds[:, \u001b[39m-\u001b[39m\u001b[39m1\u001b[39m], test_size\u001b[39m=\u001b[39m\u001b[39m0.3\u001b[39m,\n\u001b[1;32m      5\u001b[0m                                                                         random_state\u001b[39m=\u001b[39m\u001b[39m42\u001b[39m)\n\u001b[1;32m      7\u001b[0m     \u001b[39m# Normalization\u001b[39;00m\n",
      "File \u001b[0;32m~/Library/Python/3.9/lib/python/site-packages/numpy/lib/npyio.py:1356\u001b[0m, in \u001b[0;36mloadtxt\u001b[0;34m(fname, dtype, comments, delimiter, converters, skiprows, usecols, unpack, ndmin, encoding, max_rows, quotechar, like)\u001b[0m\n\u001b[1;32m   1353\u001b[0m \u001b[39mif\u001b[39;00m \u001b[39misinstance\u001b[39m(delimiter, \u001b[39mbytes\u001b[39m):\n\u001b[1;32m   1354\u001b[0m     delimiter \u001b[39m=\u001b[39m delimiter\u001b[39m.\u001b[39mdecode(\u001b[39m'\u001b[39m\u001b[39mlatin1\u001b[39m\u001b[39m'\u001b[39m)\n\u001b[0;32m-> 1356\u001b[0m arr \u001b[39m=\u001b[39m _read(fname, dtype\u001b[39m=\u001b[39;49mdtype, comment\u001b[39m=\u001b[39;49mcomment, delimiter\u001b[39m=\u001b[39;49mdelimiter,\n\u001b[1;32m   1357\u001b[0m             converters\u001b[39m=\u001b[39;49mconverters, skiplines\u001b[39m=\u001b[39;49mskiprows, usecols\u001b[39m=\u001b[39;49musecols,\n\u001b[1;32m   1358\u001b[0m             unpack\u001b[39m=\u001b[39;49munpack, ndmin\u001b[39m=\u001b[39;49mndmin, encoding\u001b[39m=\u001b[39;49mencoding,\n\u001b[1;32m   1359\u001b[0m             max_rows\u001b[39m=\u001b[39;49mmax_rows, quote\u001b[39m=\u001b[39;49mquotechar)\n\u001b[1;32m   1361\u001b[0m \u001b[39mreturn\u001b[39;00m arr\n",
      "File \u001b[0;32m~/Library/Python/3.9/lib/python/site-packages/numpy/lib/npyio.py:999\u001b[0m, in \u001b[0;36m_read\u001b[0;34m(fname, delimiter, comment, quote, imaginary_unit, usecols, skiplines, max_rows, converters, ndmin, unpack, dtype, encoding)\u001b[0m\n\u001b[1;32m    996\u001b[0m     data \u001b[39m=\u001b[39m _preprocess_comments(data, comments, encoding)\n\u001b[1;32m    998\u001b[0m \u001b[39mif\u001b[39;00m read_dtype_via_object_chunks \u001b[39mis\u001b[39;00m \u001b[39mNone\u001b[39;00m:\n\u001b[0;32m--> 999\u001b[0m     arr \u001b[39m=\u001b[39m _load_from_filelike(\n\u001b[1;32m   1000\u001b[0m         data, delimiter\u001b[39m=\u001b[39;49mdelimiter, comment\u001b[39m=\u001b[39;49mcomment, quote\u001b[39m=\u001b[39;49mquote,\n\u001b[1;32m   1001\u001b[0m         imaginary_unit\u001b[39m=\u001b[39;49mimaginary_unit,\n\u001b[1;32m   1002\u001b[0m         usecols\u001b[39m=\u001b[39;49musecols, skiplines\u001b[39m=\u001b[39;49mskiplines, max_rows\u001b[39m=\u001b[39;49mmax_rows,\n\u001b[1;32m   1003\u001b[0m         converters\u001b[39m=\u001b[39;49mconverters, dtype\u001b[39m=\u001b[39;49mdtype,\n\u001b[1;32m   1004\u001b[0m         encoding\u001b[39m=\u001b[39;49mencoding, filelike\u001b[39m=\u001b[39;49mfilelike,\n\u001b[1;32m   1005\u001b[0m         byte_converters\u001b[39m=\u001b[39;49mbyte_converters)\n\u001b[1;32m   1007\u001b[0m \u001b[39melse\u001b[39;00m:\n\u001b[1;32m   1008\u001b[0m     \u001b[39m# This branch reads the file into chunks of object arrays and then\u001b[39;00m\n\u001b[1;32m   1009\u001b[0m     \u001b[39m# casts them to the desired actual dtype.  This ensures correct\u001b[39;00m\n\u001b[1;32m   1010\u001b[0m     \u001b[39m# string-length and datetime-unit discovery (like `arr.astype()`).\u001b[39;00m\n\u001b[1;32m   1011\u001b[0m     \u001b[39m# Due to chunking, certain error reports are less clear, currently.\u001b[39;00m\n\u001b[1;32m   1012\u001b[0m     \u001b[39mif\u001b[39;00m filelike:\n",
      "\u001b[0;31mValueError\u001b[0m: could not convert string '' to float64 at row 0, column 11."
     ]
    }
   ],
   "source": [
    "ds_path = \"./Datasets/\"\n",
    "ds_file = [\"Wine.txt\", \"Glass.txt\", \"BreastTissue.txt\", \"Diabetes.txt\", \"Sonar.txt\", \"Ionosphere.txt\"]\n",
    "\n",
    "for file in ds_file:\n",
    "    path = ds_path + file\n",
    "    print(\"Dataset: \", file)\n",
    "\n",
    "    acc_avg, f1_avg, runtime_avg = 0, 0, 0\n",
    "    for i in range(10):\n",
    "        acc, f1, runtime = part1(path, None)\n",
    "        acc_avg += acc\n",
    "        f1_avg += f1\n",
    "        runtime_avg += runtime\n",
    "\n",
    "    acc_avg /= 10\n",
    "    f1_avg /= 10\n",
    "    runtime_avg /= 10\n",
    "\n",
    "    print(\"Accuracy: \", acc_avg)\n",
    "    print(\"F1 score: \", f1_avg)\n",
    "    print(\"runtime: \", runtime_avg)\n",
    "\n",
    "\n",
    "    acc_avg, f1_avg, runtime_avg = 0, 0, 0\n",
    "    for i in range(10):\n",
    "        acc, f1, runtime = part1(path, 'linear')\n",
    "        acc_avg += acc\n",
    "        f1_avg += f1\n",
    "        runtime_avg += runtime\n",
    "\n",
    "    acc_avg /= 10\n",
    "    f1_avg /= 10\n",
    "    runtime_avg /= 10\n",
    "\n",
    "    print(\"Accuracy: \", acc_avg)\n",
    "    print(\"F1 score: \", f1_avg)\n",
    "    print(\"runtime: \", runtime_avg)\n",
    "    acc_avg, f1_avg, runtime_avg = 0, 0, 0\n",
    "    for i in range(10):\n",
    "        acc, f1, runtime = part1(path, 'polynomial')\n",
    "        acc_avg += acc\n",
    "        f1_avg += f1\n",
    "        runtime_avg += runtime\n",
    "\n",
    "    acc_avg /= 10\n",
    "    f1_avg /= 10\n",
    "    runtime_avg /= 10\n",
    "\n",
    "    print(\"Accuracy: \", acc_avg)\n",
    "    print(\"F1 score: \", f1_avg)\n",
    "    print(\"runtime: \", runtime_avg)\n",
    "    acc_avg, f1_avg, runtime_avg = 0, 0, 0\n",
    "    for i in range(10):\n",
    "        acc, f1, runtime = part1(path, None)\n",
    "        acc_avg += acc\n",
    "        f1_avg += f1\n",
    "        runtime_avg += runtime\n",
    "\n",
    "    acc_avg /= 10\n",
    "    f1_avg /= 10\n",
    "    runtime_avg /= 10\n",
    "\n",
    "    print(\"Accuracy: \", acc_avg)\n",
    "    print(\"F1 score: \", f1_avg)\n",
    "    print(\"runtime: \", runtime_avg)\n",
    "    acc_avg, f1_avg, runtime_avg = 0, 0, 0\n",
    "    for i in range(10):\n",
    "        acc, f1, runtime = part1(path, None)\n",
    "        acc_avg += acc\n",
    "        f1_avg += f1\n",
    "        runtime_avg += runtime\n",
    "\n",
    "    acc_avg /= 10\n",
    "    f1_avg /= 10\n",
    "    runtime_avg /= 10\n",
    "\n",
    "    print(\"Accuracy: \", acc_avg)\n",
    "    print(\"F1 score: \", f1_avg)\n",
    "    print(\"runtime: \", runtime_avg)\n",
    "    acc_avg, f1_avg, runtime_avg = 0, 0, 0\n",
    "    for i in range(10):\n",
    "        acc, f1, runtime = part1(path, None)\n",
    "        acc_avg += acc\n",
    "        f1_avg += f1\n",
    "        runtime_avg += runtime\n",
    "\n",
    "    acc_avg /= 10\n",
    "    f1_avg /= 10\n",
    "    runtime_avg /= 10\n",
    "\n",
    "    print(\"Accuracy: \", acc_avg)\n",
    "    print(\"F1 score: \", f1_avg)\n",
    "    print(\"runtime: \", runtime_avg)\n",
    "    acc_avg, f1_avg, runtime_avg = 0, 0, 0\n",
    "    for i in range(10):\n",
    "        acc, f1, runtime = part1(path, None)\n",
    "        acc_avg += acc\n",
    "        f1_avg += f1\n",
    "        runtime_avg += runtime\n",
    "\n",
    "    acc_avg /= 10\n",
    "    f1_avg /= 10\n",
    "    runtime_avg /= 10\n",
    "\n",
    "    print(\"Accuracy: \", acc_avg)\n",
    "    print(\"F1 score: \", f1_avg)\n",
    "    print(\"runtime: \", runtime_avg)\n"
   ]
  },
  {
   "cell_type": "code",
   "execution_count": 6,
   "metadata": {},
   "outputs": [
    {
     "ename": "SyntaxError",
     "evalue": "invalid non-printable character U+00A0 (2407636912.py, line 1)",
     "output_type": "error",
     "traceback": [
      "\u001b[0;36m  Cell \u001b[0;32mIn[6], line 1\u001b[0;36m\u001b[0m\n\u001b[0;31m    def tenfold(model,data,label):\u001b[0m\n\u001b[0m       ^\u001b[0m\n\u001b[0;31mSyntaxError\u001b[0m\u001b[0;31m:\u001b[0m invalid non-printable character U+00A0\n"
     ]
    }
   ],
   "source": [
    "def tenfold(model,data,label):"
   ]
  },
  {
   "cell_type": "code",
   "execution_count": null,
   "metadata": {},
   "outputs": [],
   "source": []
  },
  {
   "cell_type": "code",
   "execution_count": null,
   "metadata": {},
   "outputs": [],
   "source": []
  },
  {
   "cell_type": "code",
   "execution_count": null,
   "metadata": {},
   "outputs": [],
   "source": []
  },
  {
   "cell_type": "code",
   "execution_count": null,
   "metadata": {},
   "outputs": [],
   "source": []
  },
  {
   "cell_type": "code",
   "execution_count": null,
   "metadata": {},
   "outputs": [],
   "source": [
    "staticmethod"
   ]
  },
  {
   "cell_type": "code",
   "execution_count": null,
   "metadata": {},
   "outputs": [],
   "source": []
  }
 ],
 "metadata": {
  "kernelspec": {
   "display_name": "Python 3",
   "language": "python",
   "name": "python3"
  },
  "language_info": {
   "codemirror_mode": {
    "name": "ipython",
    "version": 3
   },
   "file_extension": ".py",
   "mimetype": "text/x-python",
   "name": "python",
   "nbconvert_exporter": "python",
   "pygments_lexer": "ipython3",
   "version": "3.9.6"
  },
  "orig_nbformat": 4
 },
 "nbformat": 4,
 "nbformat_minor": 2
}
