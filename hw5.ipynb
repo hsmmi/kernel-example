{
 "cells": [
  {
   "cell_type": "code",
   "execution_count": null,
   "metadata": {},
   "outputs": [],
   "source": []
  },
  {
   "cell_type": "code",
   "execution_count": 1,
   "metadata": {},
   "outputs": [
    {
     "name": "stdout",
     "output_type": "stream",
     "text": [
      "Dataset:  Wine.txt\n"
     ]
    },
    {
     "ename": "InvalidParameterError",
     "evalue": "The 'y_true' parameter of accuracy_score must be an array-like or a sparse matrix. Got 0 instead.",
     "output_type": "error",
     "traceback": [
      "\u001b[0;31m---------------------------------------------------------------------------\u001b[0m",
      "\u001b[0;31mInvalidParameterError\u001b[0m                     Traceback (most recent call last)",
      "Cell \u001b[0;32mIn[1], line 24\u001b[0m\n\u001b[1;32m     14\u001b[0m \u001b[39mprint\u001b[39m(\u001b[39m\"\u001b[39m\u001b[39mDataset: \u001b[39m\u001b[39m\"\u001b[39m, file)\n\u001b[1;32m     16\u001b[0m data, label \u001b[39m=\u001b[39m my_io(path)\u001b[39m.\u001b[39mread_csv()\n\u001b[1;32m     18\u001b[0m [\n\u001b[1;32m     19\u001b[0m     avg_accuracy_score,\n\u001b[1;32m     20\u001b[0m     avg_f1_score,\n\u001b[1;32m     21\u001b[0m     avg_precision_score,\n\u001b[1;32m     22\u001b[0m     avg_recall,\n\u001b[1;32m     23\u001b[0m     avg_time,\n\u001b[0;32m---> 24\u001b[0m ] \u001b[39m=\u001b[39m Performance\u001b[39m.\u001b[39;49mk_fold(Performance(), model\u001b[39m=\u001b[39;49mkmeans(k\u001b[39m=\u001b[39;49m\u001b[39m2\u001b[39;49m,kernel_type\u001b[39m=\u001b[39;49mkernel(\u001b[39m'\u001b[39;49m\u001b[39mRBF\u001b[39;49m\u001b[39m'\u001b[39;49m)), data\u001b[39m=\u001b[39;49mdata, labels\u001b[39m=\u001b[39;49mlabel, test_size\u001b[39m=\u001b[39;49m\u001b[39m0.3\u001b[39;49m, k\u001b[39m=\u001b[39;49m\u001b[39m10\u001b[39;49m)\n\u001b[1;32m     26\u001b[0m \u001b[39mprint\u001b[39m(\u001b[39m\"\u001b[39m\u001b[39mAccuracy: \u001b[39m\u001b[39m\"\u001b[39m, avg_accuracy_score)\n\u001b[1;32m     27\u001b[0m \u001b[39mprint\u001b[39m(\u001b[39m\"\u001b[39m\u001b[39mF1 score: \u001b[39m\u001b[39m\"\u001b[39m, avg_f1_score)\n",
      "File \u001b[0;32m~/Documents/University/Machine Learning/2023/Homeworks/HW5_ML/kernel-example/Performance.py:67\u001b[0m, in \u001b[0;36mPerformance.k_fold\u001b[0;34m(self, model, data, labels, test_size, k)\u001b[0m\n\u001b[1;32m     64\u001b[0m predictions \u001b[39m=\u001b[39m model\u001b[39m.\u001b[39mpredict(X_test)\n\u001b[1;32m     66\u001b[0m \u001b[39m# Measuring performance\u001b[39;00m\n\u001b[0;32m---> 67\u001b[0m avg_accuracy_score \u001b[39m+\u001b[39m\u001b[39m=\u001b[39m accuracy_score(predictions, y_test)\n\u001b[1;32m     68\u001b[0m avg_f1_score \u001b[39m+\u001b[39m\u001b[39m=\u001b[39m f1_score(predictions, y_test)\n\u001b[1;32m     69\u001b[0m avg_precision_score \u001b[39m+\u001b[39m\u001b[39m=\u001b[39m precision_score(predictions, y_test)\n",
      "File \u001b[0;32m~/Library/Python/3.9/lib/python/site-packages/sklearn/utils/_param_validation.py:187\u001b[0m, in \u001b[0;36mvalidate_params.<locals>.decorator.<locals>.wrapper\u001b[0;34m(*args, **kwargs)\u001b[0m\n\u001b[1;32m    184\u001b[0m to_ignore \u001b[39m+\u001b[39m\u001b[39m=\u001b[39m [\u001b[39m\"\u001b[39m\u001b[39mself\u001b[39m\u001b[39m\"\u001b[39m, \u001b[39m\"\u001b[39m\u001b[39mcls\u001b[39m\u001b[39m\"\u001b[39m]\n\u001b[1;32m    185\u001b[0m params \u001b[39m=\u001b[39m {k: v \u001b[39mfor\u001b[39;00m k, v \u001b[39min\u001b[39;00m params\u001b[39m.\u001b[39marguments\u001b[39m.\u001b[39mitems() \u001b[39mif\u001b[39;00m k \u001b[39mnot\u001b[39;00m \u001b[39min\u001b[39;00m to_ignore}\n\u001b[0;32m--> 187\u001b[0m validate_parameter_constraints(\n\u001b[1;32m    188\u001b[0m     parameter_constraints, params, caller_name\u001b[39m=\u001b[39;49mfunc\u001b[39m.\u001b[39;49m\u001b[39m__qualname__\u001b[39;49m\n\u001b[1;32m    189\u001b[0m )\n\u001b[1;32m    191\u001b[0m \u001b[39mtry\u001b[39;00m:\n\u001b[1;32m    192\u001b[0m     \u001b[39mreturn\u001b[39;00m func(\u001b[39m*\u001b[39margs, \u001b[39m*\u001b[39m\u001b[39m*\u001b[39mkwargs)\n",
      "File \u001b[0;32m~/Library/Python/3.9/lib/python/site-packages/sklearn/utils/_param_validation.py:97\u001b[0m, in \u001b[0;36mvalidate_parameter_constraints\u001b[0;34m(parameter_constraints, params, caller_name)\u001b[0m\n\u001b[1;32m     91\u001b[0m \u001b[39melse\u001b[39;00m:\n\u001b[1;32m     92\u001b[0m     constraints_str \u001b[39m=\u001b[39m (\n\u001b[1;32m     93\u001b[0m         \u001b[39mf\u001b[39m\u001b[39m\"\u001b[39m\u001b[39m{\u001b[39;00m\u001b[39m'\u001b[39m\u001b[39m, \u001b[39m\u001b[39m'\u001b[39m\u001b[39m.\u001b[39mjoin([\u001b[39mstr\u001b[39m(c)\u001b[39m \u001b[39m\u001b[39mfor\u001b[39;00m\u001b[39m \u001b[39mc\u001b[39m \u001b[39m\u001b[39min\u001b[39;00m\u001b[39m \u001b[39mconstraints[:\u001b[39m-\u001b[39m\u001b[39m1\u001b[39m]])\u001b[39m}\u001b[39;00m\u001b[39m or\u001b[39m\u001b[39m\"\u001b[39m\n\u001b[1;32m     94\u001b[0m         \u001b[39mf\u001b[39m\u001b[39m\"\u001b[39m\u001b[39m \u001b[39m\u001b[39m{\u001b[39;00mconstraints[\u001b[39m-\u001b[39m\u001b[39m1\u001b[39m]\u001b[39m}\u001b[39;00m\u001b[39m\"\u001b[39m\n\u001b[1;32m     95\u001b[0m     )\n\u001b[0;32m---> 97\u001b[0m \u001b[39mraise\u001b[39;00m InvalidParameterError(\n\u001b[1;32m     98\u001b[0m     \u001b[39mf\u001b[39m\u001b[39m\"\u001b[39m\u001b[39mThe \u001b[39m\u001b[39m{\u001b[39;00mparam_name\u001b[39m!r}\u001b[39;00m\u001b[39m parameter of \u001b[39m\u001b[39m{\u001b[39;00mcaller_name\u001b[39m}\u001b[39;00m\u001b[39m must be\u001b[39m\u001b[39m\"\u001b[39m\n\u001b[1;32m     99\u001b[0m     \u001b[39mf\u001b[39m\u001b[39m\"\u001b[39m\u001b[39m \u001b[39m\u001b[39m{\u001b[39;00mconstraints_str\u001b[39m}\u001b[39;00m\u001b[39m. Got \u001b[39m\u001b[39m{\u001b[39;00mparam_val\u001b[39m!r}\u001b[39;00m\u001b[39m instead.\u001b[39m\u001b[39m\"\u001b[39m\n\u001b[1;32m    100\u001b[0m )\n",
      "\u001b[0;31mInvalidParameterError\u001b[0m: The 'y_true' parameter of accuracy_score must be an array-like or a sparse matrix. Got 0 instead."
     ]
    }
   ],
   "source": [
    "\n",
    "from Performance import Performance\n",
    "from kernel import kernel\n",
    "from kmeans import kmeans\n",
    "from knn import knn\n",
    "from my_io import my_io\n",
    "\n",
    "\n",
    "ds_path = \"./Datasets/\"\n",
    "ds_file = [\"Wine.txt\", \"Glass.txt\", \"BreastTissue.txt\", \"Diabetes.txt\", \"Sonar.txt\", \"Ionosphere.txt\"]\n",
    "\n",
    "for file in ds_file:\n",
    "    path = ds_path + file\n",
    "    print(\"Dataset: \", file)\n",
    "\n",
    "    data, label = my_io(path).read_csv()\n",
    "    \n",
    "    [\n",
    "        avg_accuracy_score,\n",
    "        avg_f1_score,\n",
    "        avg_precision_score,\n",
    "        avg_recall,\n",
    "        avg_time,\n",
    "    ] = Performance.k_fold(Performance(), model=kmeans(k=2,kernel_type=kernel('linear')), data=data, labels=label, test_size=0.3, k=10)\n",
    "\n",
    "    print(\"Accuracy: \", avg_accuracy_score)\n",
    "    print(\"F1 score: \", avg_f1_score)\n",
    "    print(\"Precision: \", avg_precision_score)\n",
    "    print(\"Recall: \", avg_recall)\n",
    "    print(\"Time: \", avg_time)\n"
   ]
  },
  {
   "cell_type": "code",
   "execution_count": null,
   "metadata": {},
   "outputs": [
    {
     "ename": "SyntaxError",
     "evalue": "invalid non-printable character U+00A0 (2407636912.py, line 1)",
     "output_type": "error",
     "traceback": [
      "\u001b[0;36m  Cell \u001b[0;32mIn[6], line 1\u001b[0;36m\u001b[0m\n\u001b[0;31m    def tenfold(model,data,label):\u001b[0m\n\u001b[0m       ^\u001b[0m\n\u001b[0;31mSyntaxError\u001b[0m\u001b[0;31m:\u001b[0m invalid non-printable character U+00A0\n"
     ]
    }
   ],
   "source": []
  },
  {
   "cell_type": "code",
   "execution_count": null,
   "metadata": {},
   "outputs": [],
   "source": []
  },
  {
   "cell_type": "code",
   "execution_count": null,
   "metadata": {},
   "outputs": [],
   "source": []
  },
  {
   "cell_type": "code",
   "execution_count": null,
   "metadata": {},
   "outputs": [],
   "source": []
  },
  {
   "cell_type": "code",
   "execution_count": null,
   "metadata": {},
   "outputs": [],
   "source": []
  },
  {
   "cell_type": "code",
   "execution_count": null,
   "metadata": {},
   "outputs": [],
   "source": []
  },
  {
   "cell_type": "code",
   "execution_count": null,
   "metadata": {},
   "outputs": [],
   "source": []
  },
  {
   "cell_type": "code",
   "execution_count": null,
   "metadata": {},
   "outputs": [],
   "source": []
  }
 ],
 "metadata": {
  "kernelspec": {
   "display_name": "Python 3",
   "language": "python",
   "name": "python3"
  },
  "language_info": {
   "codemirror_mode": {
    "name": "ipython",
    "version": 3
   },
   "file_extension": ".py",
   "mimetype": "text/x-python",
   "name": "python",
   "nbconvert_exporter": "python",
   "pygments_lexer": "ipython3",
   "version": "3.9.6"
  },
  "orig_nbformat": 4
 },
 "nbformat": 4,
 "nbformat_minor": 2
}
